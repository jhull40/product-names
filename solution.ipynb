{
 "cells": [
  {
   "cell_type": "markdown",
   "metadata": {},
   "source": [
    "# Instructions\n",
    "\n",
    "\n",
    "a.) If we want to understand which catalog (such as clothing, shoes, accessories, beauty, jewelry etc.) each item is, how will you make that happen?\n",
    "\n",
    "\n",
    "b.) How can you extract the additional information from the item names, such as the color, style, size, material, gender etc. if there is any?\n",
    "\n",
    "\n",
    "c.) A plus. If you write the queries/codes, or build a machine learning model to achieve the goal of a.) or b.) above on the attached dataset. Python is preferred."
   ]
  },
  {
   "cell_type": "markdown",
   "metadata": {},
   "source": [
    "## Part A\n",
    "\n",
    "To understand the catalog that each item belongs to, I built topic models to cluster items. Then, using the output, I manually labeled the output to map a topic to a physical catalog label.\n",
    "\n",
    "\n"
   ]
  },
  {
   "cell_type": "markdown",
   "metadata": {},
   "source": [
    "#### Processing included:\n",
    "1. removing punctuation\n",
    "2. lowercasing\n",
    "3. lemmatizing\n",
    "4. removing stop words\n",
    "5. keyword extraction using YAKE\n",
    "\n",
    "The processed dataset can be found in `data/processed-data-with-keywords.csv`"
   ]
  },
  {
   "cell_type": "markdown",
   "metadata": {},
   "source": [
    "#### BERTopic\n",
    "\n",
    "To cluster the items, I used the keywords found by the YAKE library, and used the library BERTopic for topic modeling.\n",
    "\n",
    "Looking at some clusters based on common words:"
   ]
  },
  {
   "cell_type": "markdown",
   "metadata": {},
   "source": [
    "![topics](output/topwords.png)"
   ]
  },
  {
   "cell_type": "markdown",
   "metadata": {},
   "source": [
    "\n",
    "Note - this is an interactive html that allows the user to click on topics and sort based on keywords. However, because I ran the models in google colab (to use the GPU), I was unable to extract the html. I took a few screen shots and placed them here.\n",
    "\n",
    "![topic1](output/topics1.png)"
   ]
  },
  {
   "cell_type": "markdown",
   "metadata": {},
   "source": [
    "![topic2](output/topics2.png)"
   ]
  },
  {
   "cell_type": "markdown",
   "metadata": {},
   "source": [
    "![topic3](output/topics3.png)"
   ]
  },
  {
   "cell_type": "markdown",
   "metadata": {},
   "source": [
    "Given these common words per topic, a human can then map them to a category name.\n",
    "\n",
    "**Topic 0:** pencil, box, canvas --> Art supplies\n",
    "\n",
    "**Topic 1:** ceramic, ceramic mug, ceramic printland --> Home goods\n",
    "\n",
    "**Topic 2:** necklace, alloy necklace, necklace indian --> Jewelry \n",
    "\n",
    "\n",
    "The full list of product names and their corresponding topics can be found in `output/new_topics_labels.csv`"
   ]
  },
  {
   "cell_type": "markdown",
   "metadata": {},
   "source": [
    "You can also add new items and discover the most closely related topic(s)\n",
    "\n",
    "![newterm](output/newterm.png)"
   ]
  },
  {
   "cell_type": "code",
   "execution_count": 3,
   "metadata": {},
   "outputs": [
    {
     "data": {
      "text/html": [
       "<div>\n",
       "<style scoped>\n",
       "    .dataframe tbody tr th:only-of-type {\n",
       "        vertical-align: middle;\n",
       "    }\n",
       "\n",
       "    .dataframe tbody tr th {\n",
       "        vertical-align: top;\n",
       "    }\n",
       "\n",
       "    .dataframe thead th {\n",
       "        text-align: right;\n",
       "    }\n",
       "</style>\n",
       "<table border=\"1\" class=\"dataframe\">\n",
       "  <thead>\n",
       "    <tr style=\"text-align: right;\">\n",
       "      <th></th>\n",
       "      <th>raw</th>\n",
       "      <th>topic_label</th>\n",
       "    </tr>\n",
       "  </thead>\n",
       "  <tbody>\n",
       "    <tr>\n",
       "      <th>0</th>\n",
       "      <td>Steppings Trendy Boots</td>\n",
       "      <td>footwear</td>\n",
       "    </tr>\n",
       "    <tr>\n",
       "      <th>1</th>\n",
       "      <td>Rochees RW38 Analog Watch  - For Boys</td>\n",
       "      <td>watch</td>\n",
       "    </tr>\n",
       "    <tr>\n",
       "      <th>2</th>\n",
       "      <td>Rorlig RR-028 Expedition Analog Watch  - For M...</td>\n",
       "      <td>watches</td>\n",
       "    </tr>\n",
       "    <tr>\n",
       "      <th>3</th>\n",
       "      <td>Catwalk Boots</td>\n",
       "      <td>footwear</td>\n",
       "    </tr>\n",
       "    <tr>\n",
       "      <th>4</th>\n",
       "      <td>Magnum Footwear Lifestyle</td>\n",
       "      <td>footwear</td>\n",
       "    </tr>\n",
       "    <tr>\n",
       "      <th>5</th>\n",
       "      <td>Rialto Boots</td>\n",
       "      <td>footwear</td>\n",
       "    </tr>\n",
       "    <tr>\n",
       "      <th>6</th>\n",
       "      <td>Alfajr WY16B Youth Digital Watch  - For Men, Boys</td>\n",
       "      <td>watches</td>\n",
       "    </tr>\n",
       "    <tr>\n",
       "      <th>7</th>\n",
       "      <td>La Briza Ashley Boots</td>\n",
       "      <td>womens clothing</td>\n",
       "    </tr>\n",
       "    <tr>\n",
       "      <th>8</th>\n",
       "      <td>TAG Heuer CAU1116.BA0858 Formula 1 Analog Watc...</td>\n",
       "      <td>watch</td>\n",
       "    </tr>\n",
       "    <tr>\n",
       "      <th>9</th>\n",
       "      <td>Salt N Pepper 13-019 Femme Black Boots Boots</td>\n",
       "      <td>footwear</td>\n",
       "    </tr>\n",
       "    <tr>\n",
       "      <th>10</th>\n",
       "      <td>Shuz Touch Boots</td>\n",
       "      <td>footwear</td>\n",
       "    </tr>\n",
       "    <tr>\n",
       "      <th>11</th>\n",
       "      <td>Wrangler Skanders Fit Men's Jeans</td>\n",
       "      <td>footwear</td>\n",
       "    </tr>\n",
       "    <tr>\n",
       "      <th>12</th>\n",
       "      <td>Salt N Pepper 14-664 Denny Black Boots Boots</td>\n",
       "      <td>footwear</td>\n",
       "    </tr>\n",
       "    <tr>\n",
       "      <th>13</th>\n",
       "      <td>Costa Swiss CS-2001 Analog Watch  - For Boys, Men</td>\n",
       "      <td>watches</td>\n",
       "    </tr>\n",
       "    <tr>\n",
       "      <th>14</th>\n",
       "      <td>Crocs Boots</td>\n",
       "      <td>footwear</td>\n",
       "    </tr>\n",
       "    <tr>\n",
       "      <th>15</th>\n",
       "      <td>Breitling AB011010/BB08 131S Chronomat 44 Anal...</td>\n",
       "      <td>watch</td>\n",
       "    </tr>\n",
       "    <tr>\n",
       "      <th>16</th>\n",
       "      <td>Calibro SW-125 Analog-Digital Watch  - For Men...</td>\n",
       "      <td>watches</td>\n",
       "    </tr>\n",
       "    <tr>\n",
       "      <th>17</th>\n",
       "      <td>Get Glamr Designer Uggy Boots</td>\n",
       "      <td>footwear</td>\n",
       "    </tr>\n",
       "    <tr>\n",
       "      <th>18</th>\n",
       "      <td>Rochees RW50 Analog Watch  - For Boys</td>\n",
       "      <td>watch</td>\n",
       "    </tr>\n",
       "    <tr>\n",
       "      <th>19</th>\n",
       "      <td>Salt N Pepper 13-516 Greta Red Boots</td>\n",
       "      <td>footwear</td>\n",
       "    </tr>\n",
       "  </tbody>\n",
       "</table>\n",
       "</div>"
      ],
      "text/plain": [
       "                                                  raw      topic_label\n",
       "0                              Steppings Trendy Boots         footwear\n",
       "1               Rochees RW38 Analog Watch  - For Boys            watch\n",
       "2   Rorlig RR-028 Expedition Analog Watch  - For M...          watches\n",
       "3                                       Catwalk Boots         footwear\n",
       "4                           Magnum Footwear Lifestyle         footwear\n",
       "5                                        Rialto Boots         footwear\n",
       "6   Alfajr WY16B Youth Digital Watch  - For Men, Boys          watches\n",
       "7                               La Briza Ashley Boots  womens clothing\n",
       "8   TAG Heuer CAU1116.BA0858 Formula 1 Analog Watc...            watch\n",
       "9        Salt N Pepper 13-019 Femme Black Boots Boots         footwear\n",
       "10                                   Shuz Touch Boots         footwear\n",
       "11                  Wrangler Skanders Fit Men's Jeans         footwear\n",
       "12       Salt N Pepper 14-664 Denny Black Boots Boots         footwear\n",
       "13  Costa Swiss CS-2001 Analog Watch  - For Boys, Men          watches\n",
       "14                                        Crocs Boots         footwear\n",
       "15  Breitling AB011010/BB08 131S Chronomat 44 Anal...            watch\n",
       "16  Calibro SW-125 Analog-Digital Watch  - For Men...          watches\n",
       "17                      Get Glamr Designer Uggy Boots         footwear\n",
       "18              Rochees RW50 Analog Watch  - For Boys            watch\n",
       "19               Salt N Pepper 13-516 Greta Red Boots         footwear"
      ]
     },
     "execution_count": 3,
     "metadata": {},
     "output_type": "execute_result"
    }
   ],
   "source": [
    "# some sample labels\n",
    "import pandas as pd\n",
    "\n",
    "sample_labels = pd.read_csv('output/sample_labels.csv')\n",
    "sample_labels.head(20)"
   ]
  },
  {
   "cell_type": "code",
   "execution_count": null,
   "metadata": {},
   "outputs": [],
   "source": []
  },
  {
   "cell_type": "markdown",
   "metadata": {},
   "source": [
    "## Pros and cons\n",
    "\n",
    "Pros - \n",
    "1. Quick, easily interpretable output\n",
    "2. Can use multi-lingual BERT models\n",
    "\n",
    "\n",
    "\n",
    "Cons - \n",
    "1. Requires human labeling - not ideal\n",
    "2. Difficult to detect small topics or overlapping topics without humans"
   ]
  },
  {
   "cell_type": "markdown",
   "metadata": {},
   "source": [
    "## Potential Improvements\n",
    "1. Can add labels to incorporate semi-supervised learning using a pre-defined partial topic list\n",
    "2. Can use other methods for dimensionality reduction (currently uses UMAP with HDBScan, but perhaps autoencoder?)"
   ]
  },
  {
   "cell_type": "markdown",
   "metadata": {},
   "source": [
    "---"
   ]
  },
  {
   "cell_type": "markdown",
   "metadata": {},
   "source": [
    "#### LDA Topic Model\n",
    "I initially tried gensim's implementation of Latent Dirichlet Allocation (LDA), but got pretty poor results. The clusters did not accurately (as judged by my spot-checking) segment item classes.\n",
    "\n",
    "This is a known problem with LDA (and topic models in general) that small text samples like in our dataset are difficult to segment. There are possible alternatives such as adding ngrams.\n",
    "\n",
    "For a project I worked on doing topic modeling of scientific articles, we found that adding metadata such as author of article, name of journal published in, bibliography page, etc significantly helped model performance. I would expect similar results here. If we had other information such as merchant name, url from purchase, etc, we should look to add those to the text.\n"
   ]
  },
  {
   "cell_type": "code",
   "execution_count": null,
   "metadata": {},
   "outputs": [],
   "source": []
  },
  {
   "cell_type": "markdown",
   "metadata": {},
   "source": [
    "# Part B"
   ]
  },
  {
   "cell_type": "markdown",
   "metadata": {},
   "source": [
    "One simple option to extract information such as color, gender, etc is to create lookup tables. \n",
    "\n",
    "Using lists such as (boy, girl, man, woman) for gender and (blue, black, red ...) for color, allow for extraction.\n",
    "\n",
    "This is quick and easy, but may not be sufficient for all attributes and also has the 'unknown unknown' problem -- if my list of colors is missing green, it will be very hard for me to identify that.\n",
    "\n"
   ]
  },
  {
   "cell_type": "markdown",
   "metadata": {},
   "source": [
    "I created simple functions with lookup tables to append information about color and gender to the dataset"
   ]
  },
  {
   "cell_type": "code",
   "execution_count": 4,
   "metadata": {},
   "outputs": [
    {
     "data": {
      "text/html": [
       "<div>\n",
       "<style scoped>\n",
       "    .dataframe tbody tr th:only-of-type {\n",
       "        vertical-align: middle;\n",
       "    }\n",
       "\n",
       "    .dataframe tbody tr th {\n",
       "        vertical-align: top;\n",
       "    }\n",
       "\n",
       "    .dataframe thead th {\n",
       "        text-align: right;\n",
       "    }\n",
       "</style>\n",
       "<table border=\"1\" class=\"dataframe\">\n",
       "  <thead>\n",
       "    <tr style=\"text-align: right;\">\n",
       "      <th></th>\n",
       "      <th>raw</th>\n",
       "      <th>color</th>\n",
       "      <th>gender</th>\n",
       "    </tr>\n",
       "  </thead>\n",
       "  <tbody>\n",
       "    <tr>\n",
       "      <th>0</th>\n",
       "      <td>Alisha Solid Women's Cycling Shorts</td>\n",
       "      <td>[]</td>\n",
       "      <td>['woman']</td>\n",
       "    </tr>\n",
       "    <tr>\n",
       "      <th>1</th>\n",
       "      <td>FabHomeDecor Fabric Double Sofa Bed</td>\n",
       "      <td>[]</td>\n",
       "      <td>[]</td>\n",
       "    </tr>\n",
       "    <tr>\n",
       "      <th>2</th>\n",
       "      <td>AW Bellies</td>\n",
       "      <td>[]</td>\n",
       "      <td>[]</td>\n",
       "    </tr>\n",
       "    <tr>\n",
       "      <th>3</th>\n",
       "      <td>Sicons All Purpose Arnica Dog Shampoo</td>\n",
       "      <td>[]</td>\n",
       "      <td>['dog']</td>\n",
       "    </tr>\n",
       "    <tr>\n",
       "      <th>4</th>\n",
       "      <td>Eternal Gandhi Super Series Crystal Paper Weig...</td>\n",
       "      <td>['silver']</td>\n",
       "      <td>[]</td>\n",
       "    </tr>\n",
       "    <tr>\n",
       "      <th>5</th>\n",
       "      <td>dilli bazaaar Bellies, Corporate Casuals, Casuals</td>\n",
       "      <td>[]</td>\n",
       "      <td>[]</td>\n",
       "    </tr>\n",
       "    <tr>\n",
       "      <th>6</th>\n",
       "      <td>Ladela Bellies</td>\n",
       "      <td>[]</td>\n",
       "      <td>[]</td>\n",
       "    </tr>\n",
       "    <tr>\n",
       "      <th>7</th>\n",
       "      <td>Carrel Printed Women's</td>\n",
       "      <td>[]</td>\n",
       "      <td>['woman']</td>\n",
       "    </tr>\n",
       "    <tr>\n",
       "      <th>8</th>\n",
       "      <td>Sicons All Purpose Tea Tree Dog Shampoo</td>\n",
       "      <td>[]</td>\n",
       "      <td>['dog']</td>\n",
       "    </tr>\n",
       "    <tr>\n",
       "      <th>9</th>\n",
       "      <td>Freelance Vacuum Bottles 350 ml Bottle</td>\n",
       "      <td>[]</td>\n",
       "      <td>[]</td>\n",
       "    </tr>\n",
       "    <tr>\n",
       "      <th>10</th>\n",
       "      <td>Style Foot Bellies</td>\n",
       "      <td>[]</td>\n",
       "      <td>[]</td>\n",
       "    </tr>\n",
       "    <tr>\n",
       "      <th>11</th>\n",
       "      <td>Sicons Conditioning Conditoner Dog Shampoo</td>\n",
       "      <td>[]</td>\n",
       "      <td>['dog']</td>\n",
       "    </tr>\n",
       "    <tr>\n",
       "      <th>12</th>\n",
       "      <td>dongli Printed Boy's Round Neck T-Shirt</td>\n",
       "      <td>[]</td>\n",
       "      <td>['boy']</td>\n",
       "    </tr>\n",
       "    <tr>\n",
       "      <th>13</th>\n",
       "      <td>SWAGGA Women Clogs</td>\n",
       "      <td>[]</td>\n",
       "      <td>['woman']</td>\n",
       "    </tr>\n",
       "    <tr>\n",
       "      <th>14</th>\n",
       "      <td>Kennel Rubber Dumbell With Bell - Small Rubber...</td>\n",
       "      <td>[]</td>\n",
       "      <td>['dog']</td>\n",
       "    </tr>\n",
       "    <tr>\n",
       "      <th>15</th>\n",
       "      <td>Glus Wedding Lingerie Set</td>\n",
       "      <td>[]</td>\n",
       "      <td>[]</td>\n",
       "    </tr>\n",
       "    <tr>\n",
       "      <th>16</th>\n",
       "      <td>Veelys Shiny White Quad Roller Skates - Size 4...</td>\n",
       "      <td>['white']</td>\n",
       "      <td>[]</td>\n",
       "    </tr>\n",
       "    <tr>\n",
       "      <th>17</th>\n",
       "      <td>Bulaky vanity case Jewellery Vanity Case</td>\n",
       "      <td>[]</td>\n",
       "      <td>[]</td>\n",
       "    </tr>\n",
       "    <tr>\n",
       "      <th>18</th>\n",
       "      <td>FDT Women's Leggings</td>\n",
       "      <td>[]</td>\n",
       "      <td>['woman']</td>\n",
       "    </tr>\n",
       "    <tr>\n",
       "      <th>19</th>\n",
       "      <td>Madcaps C38GR30 Men's Cargos</td>\n",
       "      <td>[]</td>\n",
       "      <td>[]</td>\n",
       "    </tr>\n",
       "  </tbody>\n",
       "</table>\n",
       "</div>"
      ],
      "text/plain": [
       "                                                  raw       color     gender\n",
       "0                 Alisha Solid Women's Cycling Shorts          []  ['woman']\n",
       "1                 FabHomeDecor Fabric Double Sofa Bed          []         []\n",
       "2                                          AW Bellies          []         []\n",
       "3               Sicons All Purpose Arnica Dog Shampoo          []    ['dog']\n",
       "4   Eternal Gandhi Super Series Crystal Paper Weig...  ['silver']         []\n",
       "5   dilli bazaaar Bellies, Corporate Casuals, Casuals          []         []\n",
       "6                                      Ladela Bellies          []         []\n",
       "7                              Carrel Printed Women's          []  ['woman']\n",
       "8             Sicons All Purpose Tea Tree Dog Shampoo          []    ['dog']\n",
       "9              Freelance Vacuum Bottles 350 ml Bottle          []         []\n",
       "10                                 Style Foot Bellies          []         []\n",
       "11         Sicons Conditioning Conditoner Dog Shampoo          []    ['dog']\n",
       "12            dongli Printed Boy's Round Neck T-Shirt          []    ['boy']\n",
       "13                                 SWAGGA Women Clogs          []  ['woman']\n",
       "14  Kennel Rubber Dumbell With Bell - Small Rubber...          []    ['dog']\n",
       "15                          Glus Wedding Lingerie Set          []         []\n",
       "16  Veelys Shiny White Quad Roller Skates - Size 4...   ['white']         []\n",
       "17           Bulaky vanity case Jewellery Vanity Case          []         []\n",
       "18                               FDT Women's Leggings          []  ['woman']\n",
       "19                       Madcaps C38GR30 Men's Cargos          []         []"
      ]
     },
     "execution_count": 4,
     "metadata": {},
     "output_type": "execute_result"
    }
   ],
   "source": [
    "# some sample labels\n",
    "\n",
    "sample_labels = pd.read_csv('output/sample_color_data.csv')\n",
    "sample_labels.head(20)"
   ]
  },
  {
   "cell_type": "markdown",
   "metadata": {},
   "source": [
    "From the lists, one can easily one-hot-encode the data to allow for quick search features or modeling. \n",
    "\n",
    "\n",
    "This misses some implicit labels like the wedding lingerie set likely being for women. Embedding models and the topic model approach above may help this, as lingerie should get mapped near bras or other women's clothing and could be labeled without explicit use of the word woman.\n",
    "\n"
   ]
  },
  {
   "cell_type": "markdown",
   "metadata": {},
   "source": [
    "---"
   ]
  },
  {
   "cell_type": "markdown",
   "metadata": {},
   "source": [
    "If this was a larger project and I had more time / resources, I would look into a few other ways to solve this.\n",
    "\n",
    "Firstly, I would use common libraries to do named entity recognition (NER) to extract company and product names. \n",
    "\n",
    "I would also use part of speech (PoS) tagging to potentially identify patterns (adjectives are more likely to be attributes where nouns are more likely to be the item, for example).\n"
   ]
  },
  {
   "cell_type": "markdown",
   "metadata": {},
   "source": [
    "\n",
    "One reason to do things like this is that learning information about some attributes necessarily informs predictions about other products. For example, consider the product I found online: **\"adidas ultraboost 40 black size 10\"**\n",
    "\n",
    "If we know the color is black, then we can reasonably assume the size is **not** black. And if we learn the brand is adidas, we know the color is **not** adidas, etc. \n",
    "\n",
    "Therefore, it's possible to use predictions/labels from one attribute and pass that into a model to predict another type of attribute. I used this stacking technique (based on [some work here](https://link.springer.com/content/pdf/10.1007/s10994-016-5546-z.pdf)) to successfully model personality traits based on social media data. This is especially useful when you have multiple targets (as we do with many product attributes) that are either correlated or on some level related.\n",
    "\n"
   ]
  },
  {
   "cell_type": "markdown",
   "metadata": {},
   "source": [
    "---"
   ]
  },
  {
   "cell_type": "markdown",
   "metadata": {},
   "source": [
    "I also found this [paper from Rakuten](http://sigmo.id/__paper__/nio.icde.2019.pdf) that processes the data with similar methods I outlined, and then uses a semi-supervised approach with an LSTM model to extract product attributes."
   ]
  },
  {
   "cell_type": "markdown",
   "metadata": {},
   "source": [
    "---"
   ]
  },
  {
   "cell_type": "markdown",
   "metadata": {},
   "source": [
    "This would require a sufficiently large workload, but if multiple teams or groups were working on this project, there is framework developed by [facebook research called CLARA](https://research.fb.com/wp-content/uploads/2020/08/CLARA-Confidence-of-Labels-and-Raters.pdf) that is a methodology for using multiple, discrete models to discern accuracy with confidence intervals of predictions when there is little ground truth data, provide assessment of each individual model's performance, and minimize human annotation time in data collection. \n",
    "\n",
    "I am currently using this methodology for a project on social media analysis and think it could be valuable here also."
   ]
  },
  {
   "cell_type": "code",
   "execution_count": null,
   "metadata": {},
   "outputs": [],
   "source": []
  }
 ],
 "metadata": {
  "kernelspec": {
   "display_name": "Python 3",
   "language": "python",
   "name": "python3"
  },
  "language_info": {
   "codemirror_mode": {
    "name": "ipython",
    "version": 3
   },
   "file_extension": ".py",
   "mimetype": "text/x-python",
   "name": "python",
   "nbconvert_exporter": "python",
   "pygments_lexer": "ipython3",
   "version": "3.7.6"
  }
 },
 "nbformat": 4,
 "nbformat_minor": 4
}
