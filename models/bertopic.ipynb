{
 "cells": [
  {
   "cell_type": "code",
   "execution_count": 7,
   "metadata": {
    "collapsed": true
   },
   "outputs": [
    {
     "ename": "ModuleNotFoundError",
     "evalue": "No module named 'bertopic'",
     "output_type": "error",
     "traceback": [
      "\u001b[0;31m---------------------------------------------------------------------------\u001b[0m",
      "\u001b[0;31mModuleNotFoundError\u001b[0m                       Traceback (most recent call last)",
      "\u001b[0;32m<ipython-input-7-6a42ff8b05a4>\u001b[0m in \u001b[0;36m<module>\u001b[0;34m\u001b[0m\n\u001b[1;32m      1\u001b[0m \u001b[0;32mimport\u001b[0m \u001b[0mpandas\u001b[0m \u001b[0;32mas\u001b[0m \u001b[0mpd\u001b[0m\u001b[0;34m\u001b[0m\u001b[0;34m\u001b[0m\u001b[0m\n\u001b[0;32m----> 2\u001b[0;31m \u001b[0;32mfrom\u001b[0m \u001b[0mbertopic\u001b[0m \u001b[0;32mimport\u001b[0m \u001b[0mBERTopic\u001b[0m\u001b[0;34m\u001b[0m\u001b[0;34m\u001b[0m\u001b[0m\n\u001b[0m",
      "\u001b[0;31mModuleNotFoundError\u001b[0m: No module named 'bertopic'"
     ]
    }
   ],
   "source": [
    "import pandas as pd\n",
    "from bertopic import BERTopic\n"
   ]
  },
  {
   "cell_type": "code",
   "execution_count": 4,
   "metadata": {},
   "outputs": [],
   "source": [
    "data = pd.read_csv('../data/processed-data-with-keywords.csv')"
   ]
  },
  {
   "cell_type": "code",
   "execution_count": 5,
   "metadata": {
    "collapsed": true
   },
   "outputs": [
    {
     "data": {
      "text/html": [
       "<div>\n",
       "<style scoped>\n",
       "    .dataframe tbody tr th:only-of-type {\n",
       "        vertical-align: middle;\n",
       "    }\n",
       "\n",
       "    .dataframe tbody tr th {\n",
       "        vertical-align: top;\n",
       "    }\n",
       "\n",
       "    .dataframe thead th {\n",
       "        text-align: right;\n",
       "    }\n",
       "</style>\n",
       "<table border=\"1\" class=\"dataframe\">\n",
       "  <thead>\n",
       "    <tr style=\"text-align: right;\">\n",
       "      <th></th>\n",
       "      <th>Unnamed: 0</th>\n",
       "      <th>raw</th>\n",
       "      <th>clean</th>\n",
       "      <th>lemmas</th>\n",
       "      <th>color</th>\n",
       "      <th>gender</th>\n",
       "      <th>keywords</th>\n",
       "    </tr>\n",
       "  </thead>\n",
       "  <tbody>\n",
       "    <tr>\n",
       "      <th>0</th>\n",
       "      <td>0</td>\n",
       "      <td>Alisha Solid Women's Cycling Shorts</td>\n",
       "      <td>alisha solid womens cycling shorts</td>\n",
       "      <td>alisha solid woman cycling short</td>\n",
       "      <td>[]</td>\n",
       "      <td>['woman']</td>\n",
       "      <td>solid woman cycling short alisha solid</td>\n",
       "    </tr>\n",
       "    <tr>\n",
       "      <th>1</th>\n",
       "      <td>1</td>\n",
       "      <td>FabHomeDecor Fabric Double Sofa Bed</td>\n",
       "      <td>fabhomedecor fabric double sofa bed</td>\n",
       "      <td>fabhomedecor fabric double sofa bed</td>\n",
       "      <td>[]</td>\n",
       "      <td>[]</td>\n",
       "      <td>fabric double sofa bed fabhomedecor fabric</td>\n",
       "    </tr>\n",
       "    <tr>\n",
       "      <th>2</th>\n",
       "      <td>2</td>\n",
       "      <td>AW Bellies</td>\n",
       "      <td>aw bellies</td>\n",
       "      <td>aw belly</td>\n",
       "      <td>[]</td>\n",
       "      <td>[]</td>\n",
       "      <td>belly</td>\n",
       "    </tr>\n",
       "    <tr>\n",
       "      <th>3</th>\n",
       "      <td>3</td>\n",
       "      <td>Sicons All Purpose Arnica Dog Shampoo</td>\n",
       "      <td>sicons all purpose arnica dog shampoo</td>\n",
       "      <td>sicons all purpose arnica dog shampoo</td>\n",
       "      <td>[]</td>\n",
       "      <td>['dog']</td>\n",
       "      <td>arnica dog purpose arnica dog shampoo</td>\n",
       "    </tr>\n",
       "    <tr>\n",
       "      <th>4</th>\n",
       "      <td>4</td>\n",
       "      <td>Eternal Gandhi Super Series Crystal Paper Weig...</td>\n",
       "      <td>eternal gandhi super series crystal paper weig...</td>\n",
       "      <td>eternal gandhi super series crystal paper weig...</td>\n",
       "      <td>['silver']</td>\n",
       "      <td>[]</td>\n",
       "      <td>gandhi super silver finish eternal gandhi</td>\n",
       "    </tr>\n",
       "    <tr>\n",
       "      <th>...</th>\n",
       "      <td>...</td>\n",
       "      <td>...</td>\n",
       "      <td>...</td>\n",
       "      <td>...</td>\n",
       "      <td>...</td>\n",
       "      <td>...</td>\n",
       "      <td>...</td>\n",
       "    </tr>\n",
       "    <tr>\n",
       "      <th>12618</th>\n",
       "      <td>12618</td>\n",
       "      <td>Purple Women Heels</td>\n",
       "      <td>purple women heels</td>\n",
       "      <td>purple woman heel</td>\n",
       "      <td>['purple']</td>\n",
       "      <td>['woman']</td>\n",
       "      <td>purple woman heel purple woman</td>\n",
       "    </tr>\n",
       "    <tr>\n",
       "      <th>12619</th>\n",
       "      <td>12619</td>\n",
       "      <td>Uberlyfe Large Vinyl Sticker</td>\n",
       "      <td>uberlyfe large vinyl sticker</td>\n",
       "      <td>uberlyfe large vinyl sticker</td>\n",
       "      <td>[]</td>\n",
       "      <td>[]</td>\n",
       "      <td>large vinyl vinyl sticker uberlyfe large</td>\n",
       "    </tr>\n",
       "    <tr>\n",
       "      <th>12620</th>\n",
       "      <td>12620</td>\n",
       "      <td>We Witches Comfy Hues Women Wedges</td>\n",
       "      <td>we witches comfy hues women wedges</td>\n",
       "      <td>we witch comfy hue woman wedge</td>\n",
       "      <td>[]</td>\n",
       "      <td>['woman']</td>\n",
       "      <td>comfy hue witch comfy woman wedge</td>\n",
       "    </tr>\n",
       "    <tr>\n",
       "      <th>12621</th>\n",
       "      <td>12621</td>\n",
       "      <td>Stylistry Women Heels</td>\n",
       "      <td>stylistry women heels</td>\n",
       "      <td>stylistry woman heel</td>\n",
       "      <td>[]</td>\n",
       "      <td>['woman']</td>\n",
       "      <td>stylistry woman heel stylistry woman</td>\n",
       "    </tr>\n",
       "    <tr>\n",
       "      <th>12622</th>\n",
       "      <td>12622</td>\n",
       "      <td>Uberlyfe Extra Large Vinyl Sticker</td>\n",
       "      <td>uberlyfe extra large vinyl sticker</td>\n",
       "      <td>uberlyfe extra large vinyl sticker</td>\n",
       "      <td>[]</td>\n",
       "      <td>[]</td>\n",
       "      <td>extra large vinyl sticker uberlyfe extra</td>\n",
       "    </tr>\n",
       "  </tbody>\n",
       "</table>\n",
       "<p>12623 rows × 7 columns</p>\n",
       "</div>"
      ],
      "text/plain": [
       "       Unnamed: 0                                                raw  \\\n",
       "0               0                Alisha Solid Women's Cycling Shorts   \n",
       "1               1                FabHomeDecor Fabric Double Sofa Bed   \n",
       "2               2                                         AW Bellies   \n",
       "3               3              Sicons All Purpose Arnica Dog Shampoo   \n",
       "4               4  Eternal Gandhi Super Series Crystal Paper Weig...   \n",
       "...           ...                                                ...   \n",
       "12618       12618                                 Purple Women Heels   \n",
       "12619       12619                       Uberlyfe Large Vinyl Sticker   \n",
       "12620       12620                 We Witches Comfy Hues Women Wedges   \n",
       "12621       12621                              Stylistry Women Heels   \n",
       "12622       12622                 Uberlyfe Extra Large Vinyl Sticker   \n",
       "\n",
       "                                                   clean  \\\n",
       "0                     alisha solid womens cycling shorts   \n",
       "1                    fabhomedecor fabric double sofa bed   \n",
       "2                                             aw bellies   \n",
       "3                  sicons all purpose arnica dog shampoo   \n",
       "4      eternal gandhi super series crystal paper weig...   \n",
       "...                                                  ...   \n",
       "12618                                 purple women heels   \n",
       "12619                       uberlyfe large vinyl sticker   \n",
       "12620                 we witches comfy hues women wedges   \n",
       "12621                              stylistry women heels   \n",
       "12622                 uberlyfe extra large vinyl sticker   \n",
       "\n",
       "                                                  lemmas       color  \\\n",
       "0                       alisha solid woman cycling short          []   \n",
       "1                    fabhomedecor fabric double sofa bed          []   \n",
       "2                                               aw belly          []   \n",
       "3                  sicons all purpose arnica dog shampoo          []   \n",
       "4      eternal gandhi super series crystal paper weig...  ['silver']   \n",
       "...                                                  ...         ...   \n",
       "12618                                  purple woman heel  ['purple']   \n",
       "12619                       uberlyfe large vinyl sticker          []   \n",
       "12620                     we witch comfy hue woman wedge          []   \n",
       "12621                               stylistry woman heel          []   \n",
       "12622                 uberlyfe extra large vinyl sticker          []   \n",
       "\n",
       "          gender                                     keywords  \n",
       "0      ['woman']      solid woman cycling short alisha solid   \n",
       "1             []  fabric double sofa bed fabhomedecor fabric   \n",
       "2             []                                       belly   \n",
       "3        ['dog']       arnica dog purpose arnica dog shampoo   \n",
       "4             []   gandhi super silver finish eternal gandhi   \n",
       "...          ...                                          ...  \n",
       "12618  ['woman']              purple woman heel purple woman   \n",
       "12619         []    large vinyl vinyl sticker uberlyfe large   \n",
       "12620  ['woman']           comfy hue witch comfy woman wedge   \n",
       "12621  ['woman']        stylistry woman heel stylistry woman   \n",
       "12622         []    extra large vinyl sticker uberlyfe extra   \n",
       "\n",
       "[12623 rows x 7 columns]"
      ]
     },
     "execution_count": 5,
     "metadata": {},
     "output_type": "execute_result"
    }
   ],
   "source": [
    "data"
   ]
  },
  {
   "cell_type": "code",
   "execution_count": 6,
   "metadata": {},
   "outputs": [],
   "source": [
    "docs = list(data['keywords'])"
   ]
  },
  {
   "cell_type": "code",
   "execution_count": null,
   "metadata": {},
   "outputs": [],
   "source": [
    "topic_model = BERTopic(language=\"english\", calculate_probabilities=True, verbose=True, n_gram_range=(-1,2))\n",
    "topics, probs = topic_model.fit_transform(docs )"
   ]
  },
  {
   "cell_type": "code",
   "execution_count": null,
   "metadata": {},
   "outputs": [],
   "source": [
    "freq = topic_model.get_topic_info(); freq.head(5)"
   ]
  },
  {
   "cell_type": "code",
   "execution_count": null,
   "metadata": {},
   "outputs": [],
   "source": [
    "topic_model.get_topic(0)  "
   ]
  },
  {
   "cell_type": "code",
   "execution_count": null,
   "metadata": {},
   "outputs": [],
   "source": [
    "topic_model.visualize_topics()"
   ]
  },
  {
   "cell_type": "code",
   "execution_count": null,
   "metadata": {},
   "outputs": [],
   "source": [
    "topic_model.visualize_barchart(top_n_topics=10)"
   ]
  },
  {
   "cell_type": "code",
   "execution_count": null,
   "metadata": {},
   "outputs": [],
   "source": [
    "topic_model.update_topics(docs, topics, n_gram_range=(1, 2))"
   ]
  },
  {
   "cell_type": "code",
   "execution_count": null,
   "metadata": {},
   "outputs": [],
   "source": [
    "new_topics, new_probs = topic_model.reduce_topics(docs, topics, probs, nr_topics=50)"
   ]
  },
  {
   "cell_type": "code",
   "execution_count": null,
   "metadata": {},
   "outputs": [],
   "source": [
    "topic_model.visualize_topics()"
   ]
  },
  {
   "cell_type": "code",
   "execution_count": null,
   "metadata": {},
   "outputs": [],
   "source": [
    "topic_model.save(\"bertopic_model\")"
   ]
  },
  {
   "cell_type": "code",
   "execution_count": null,
   "metadata": {},
   "outputs": [],
   "source": []
  },
  {
   "cell_type": "code",
   "execution_count": null,
   "metadata": {},
   "outputs": [],
   "source": []
  },
  {
   "cell_type": "code",
   "execution_count": null,
   "metadata": {},
   "outputs": [],
   "source": []
  }
 ],
 "metadata": {
  "kernelspec": {
   "display_name": "Python 3",
   "language": "python",
   "name": "python3"
  },
  "language_info": {
   "codemirror_mode": {
    "name": "ipython",
    "version": 3
   },
   "file_extension": ".py",
   "mimetype": "text/x-python",
   "name": "python",
   "nbconvert_exporter": "python",
   "pygments_lexer": "ipython3",
   "version": "3.7.6"
  }
 },
 "nbformat": 4,
 "nbformat_minor": 4
}
