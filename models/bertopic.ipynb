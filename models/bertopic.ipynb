{
 "cells": [
  {
   "cell_type": "markdown",
   "metadata": {},
   "source": [
    "## NOTE\n",
    "\n",
    "This code will not run, as it requires a GPU for the topic modeling. I used google colab for quick/easy GPU usage and then copied the notebook over."
   ]
  },
  {
   "cell_type": "code",
   "execution_count": null,
   "metadata": {},
   "outputs": [],
   "source": [
    "import pandas as pd\n",
    "from bertopic import BERTopic\n"
   ]
  },
  {
   "cell_type": "code",
   "execution_count": null,
   "metadata": {},
   "outputs": [],
   "source": [
    "data = pd.read_csv('../data/processed-data-with-keywords.csv')"
   ]
  },
  {
   "cell_type": "code",
   "execution_count": null,
   "metadata": {},
   "outputs": [],
   "source": [
    "data"
   ]
  },
  {
   "cell_type": "code",
   "execution_count": null,
   "metadata": {},
   "outputs": [],
   "source": [
    "docs = list(data['keywords'])"
   ]
  },
  {
   "cell_type": "code",
   "execution_count": null,
   "metadata": {},
   "outputs": [],
   "source": [
    "\"\"\"\n",
    "can use this for guided topics\n",
    "pass seed_topic_list = seed_topic_list in function\n",
    "\n",
    "\n",
    "seed_topic_list = [[\"gold\", \"necklace\", \"jewelry\", \"karat\", \"alloy\"],\n",
    "                   [\"lingerie\", \"bra\", \"woman\"],\n",
    "                   [\"watch\", \"analog\", \"digital\"]]\n",
    "                   \n",
    "\"\"\"\n",
    "\n",
    "topic_model = BERTopic(language=\"english\", calculate_probabilities=True, verbose=True, n_gram_range=(-1,2))\n",
    "topics, probs = topic_model.fit_transform(docs )"
   ]
  },
  {
   "cell_type": "code",
   "execution_count": null,
   "metadata": {},
   "outputs": [],
   "source": []
  },
  {
   "cell_type": "code",
   "execution_count": null,
   "metadata": {},
   "outputs": [],
   "source": [
    "# Load model\n",
    "# topic_model = BERTopic.load(\"../output/my_model\")"
   ]
  },
  {
   "cell_type": "code",
   "execution_count": null,
   "metadata": {},
   "outputs": [],
   "source": [
    "freq = topic_model.get_topic_info()\n",
    "freq.to_csv('top_words_per_topic.csv')\n",
    "freq.head(5)"
   ]
  },
  {
   "cell_type": "code",
   "execution_count": null,
   "metadata": {},
   "outputs": [],
   "source": [
    "topic_model.get_topic(0)  "
   ]
  },
  {
   "cell_type": "code",
   "execution_count": null,
   "metadata": {},
   "outputs": [],
   "source": [
    "topic_model.visualize_topics()"
   ]
  },
  {
   "cell_type": "code",
   "execution_count": null,
   "metadata": {},
   "outputs": [],
   "source": [
    "topic_model.visualize_barchart(top_n_topics=10)"
   ]
  },
  {
   "cell_type": "code",
   "execution_count": null,
   "metadata": {},
   "outputs": [],
   "source": [
    "topic_model.update_topics(docs, topics, n_gram_range=(1, 2))"
   ]
  },
  {
   "cell_type": "code",
   "execution_count": null,
   "metadata": {},
   "outputs": [],
   "source": [
    "new_topics, new_probs = topic_model.reduce_topics(docs, topics, probs, nr_topics=50)"
   ]
  },
  {
   "cell_type": "code",
   "execution_count": null,
   "metadata": {},
   "outputs": [],
   "source": [
    "topic_model.visualize_topics()"
   ]
  },
  {
   "cell_type": "code",
   "execution_count": null,
   "metadata": {},
   "outputs": [],
   "source": [
    "topic_model.save(\"bertopic_model\")"
   ]
  },
  {
   "cell_type": "code",
   "execution_count": null,
   "metadata": {},
   "outputs": [],
   "source": []
  },
  {
   "cell_type": "code",
   "execution_count": null,
   "metadata": {},
   "outputs": [],
   "source": [
    "# manual labeling\n",
    "topic_lookup = {-1: 'unknown',\n",
    " 0: 'jewelry',\n",
    " 1: 'art',\n",
    " 2: 'auto',\n",
    " 3: 'home goods',\n",
    " 4: 'watch',\n",
    " 5: 'womens clothing',\n",
    " 6: 'footwear',\n",
    " 7: 'clothing',\n",
    " 8: 'home goods',\n",
    " 9: 'home goods',\n",
    " 10: 'electronics',\n",
    " 11: 'jewelry',\n",
    " 12: 'unknown',\n",
    " 13: 'womens footwear',\n",
    " 14: 'womens footwear',\n",
    " 15: 'unknown',\n",
    " 16: 'clothing',\n",
    " 17: 'auto',\n",
    " 18: 'womens clothing',\n",
    " 19: 'electronics',\n",
    " 20: 'bags',\n",
    " 21: 'watches',\n",
    " 22: 'clothing',\n",
    " 23: 'athletics',\n",
    " 24: 'unknown',\n",
    " 25: 'jewelry',\n",
    " 26: 'jewelry',\n",
    " 27: 'electronics',\n",
    " 28: 'indian clothing',\n",
    " 29: 'mens clothing',\n",
    " 30: 'auto',\n",
    " 31: 'mens clothing',\n",
    " 32: 'clothing',\n",
    " 33: 'womens clothing',\n",
    " 34: 'electronics',\n",
    " 35: 'furniture',\n",
    " 36: 'footwear',\n",
    " 37: 'health wellness',\n",
    " 38: 'clothing',\n",
    " 39: 'womens clothing',\n",
    " 40: 'clothing',\n",
    " 41: 'jewelry',\n",
    " 42: 'auto',\n",
    " 43: 'home goods',\n",
    " 44: 'electronics',\n",
    " 45: 'clothing',\n",
    " 46: 'furniture',\n",
    " 47: 'jewelry',\n",
    " 48: 'jewelry',\n",
    " 49: 'electronics'}"
   ]
  },
  {
   "cell_type": "code",
   "execution_count": null,
   "metadata": {},
   "outputs": [],
   "source": []
  }
 ],
 "metadata": {
  "kernelspec": {
   "display_name": "Python 3",
   "language": "python",
   "name": "python3"
  },
  "language_info": {
   "codemirror_mode": {
    "name": "ipython",
    "version": 3
   },
   "file_extension": ".py",
   "mimetype": "text/x-python",
   "name": "python",
   "nbconvert_exporter": "python",
   "pygments_lexer": "ipython3",
   "version": "3.7.6"
  }
 },
 "nbformat": 4,
 "nbformat_minor": 4
}
