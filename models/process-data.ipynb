{
 "cells": [
  {
   "cell_type": "code",
   "execution_count": 7,
   "metadata": {},
   "outputs": [],
   "source": [
    "import pandas as pd\n",
    "import string\n",
    "from nltk.stem import WordNetLemmatizer\n",
    "from colour import Color"
   ]
  },
  {
   "cell_type": "code",
   "execution_count": 2,
   "metadata": {},
   "outputs": [],
   "source": [
    "data = pd.read_csv('../data/ecommerce_product_names.csv', header=0, names=['raw'])"
   ]
  },
  {
   "cell_type": "code",
   "execution_count": 3,
   "metadata": {},
   "outputs": [
    {
     "data": {
      "text/html": [
       "<div>\n",
       "<style scoped>\n",
       "    .dataframe tbody tr th:only-of-type {\n",
       "        vertical-align: middle;\n",
       "    }\n",
       "\n",
       "    .dataframe tbody tr th {\n",
       "        vertical-align: top;\n",
       "    }\n",
       "\n",
       "    .dataframe thead th {\n",
       "        text-align: right;\n",
       "    }\n",
       "</style>\n",
       "<table border=\"1\" class=\"dataframe\">\n",
       "  <thead>\n",
       "    <tr style=\"text-align: right;\">\n",
       "      <th></th>\n",
       "      <th>raw</th>\n",
       "    </tr>\n",
       "  </thead>\n",
       "  <tbody>\n",
       "    <tr>\n",
       "      <th>0</th>\n",
       "      <td>Alisha Solid Women's Cycling Shorts</td>\n",
       "    </tr>\n",
       "    <tr>\n",
       "      <th>1</th>\n",
       "      <td>FabHomeDecor Fabric Double Sofa Bed</td>\n",
       "    </tr>\n",
       "    <tr>\n",
       "      <th>2</th>\n",
       "      <td>AW Bellies</td>\n",
       "    </tr>\n",
       "    <tr>\n",
       "      <th>3</th>\n",
       "      <td>Sicons All Purpose Arnica Dog Shampoo</td>\n",
       "    </tr>\n",
       "    <tr>\n",
       "      <th>4</th>\n",
       "      <td>Eternal Gandhi Super Series Crystal Paper Weig...</td>\n",
       "    </tr>\n",
       "  </tbody>\n",
       "</table>\n",
       "</div>"
      ],
      "text/plain": [
       "                                                 raw\n",
       "0                Alisha Solid Women's Cycling Shorts\n",
       "1                FabHomeDecor Fabric Double Sofa Bed\n",
       "2                                         AW Bellies\n",
       "3              Sicons All Purpose Arnica Dog Shampoo\n",
       "4  Eternal Gandhi Super Series Crystal Paper Weig..."
      ]
     },
     "execution_count": 3,
     "metadata": {},
     "output_type": "execute_result"
    }
   ],
   "source": [
    "data.head()"
   ]
  },
  {
   "cell_type": "code",
   "execution_count": 4,
   "metadata": {},
   "outputs": [],
   "source": [
    "# process data functions\n",
    "\n",
    "GENDERS = ['boy', 'girl', 'kid', 'baby', 'infant', 'child', 'dog', 'cat', 'man', 'woman', 'pet']\n",
    "\n",
    "\n",
    "def clean_raw_text(raw_text):\n",
    "    \"\"\"\n",
    "    Clean Raw Text\n",
    "    \n",
    "    Removes punctuation and lowercases all letters\n",
    "    \n",
    "    \n",
    "    args:\n",
    "        raw_text: string of one/multiple tokens to be cleaned\n",
    "        \n",
    "    returns:\n",
    "        clean_text: cleaned version of raw_text\n",
    "    \n",
    "    \"\"\"\n",
    "    \n",
    "    clean_text = raw_text.translate(str.maketrans('', '', string.punctuation)).lower()\n",
    "\n",
    "    return clean_text\n",
    "\n",
    "\n",
    "def get_lemmas(raw_text):\n",
    "    \"\"\"\n",
    "    Get Lemmas\n",
    "    \n",
    "    Uses nltk's lemmatizer to find lemmas for given string. \n",
    "    Because the lemmatizer only takes one word at a time, the function\n",
    "    splits the string, then joins it again\n",
    "    \n",
    "    args:\n",
    "        raw_text: string of one/multiple tokens to be lemmatized\n",
    "        \n",
    "    returns:\n",
    "        lemmas: lemmatized version of raw_text\n",
    "    \n",
    "    \"\"\"\n",
    "    \n",
    "    lemmatizer = WordNetLemmatizer()\n",
    "    lemmas = ' '.join([lemmatizer.lemmatize(word) for word in raw_text.split()])\n",
    "    \n",
    "    return lemmas\n",
    "\n",
    "\n",
    "def check_if_color(token):\n",
    "    \"\"\"\n",
    "    Check if Color\n",
    "    \n",
    "    Helper function to detect color for a given word\n",
    "    \n",
    "    args:\n",
    "        token: an unknown word (string)\n",
    "        \n",
    "    returns:\n",
    "        True if token is a color, else False\n",
    "    \n",
    "    \"\"\"\n",
    "    \n",
    "    try:\n",
    "        Color(token)\n",
    "        return True\n",
    "    except ValueError:\n",
    "        return False\n",
    "    \n",
    "    \n",
    "def get_colors(raw_text):\n",
    "    \"\"\"\n",
    "    Get Colors\n",
    "    \n",
    "    Calls check_if_color for every token in string passed to it\n",
    "    Removes duplicates (white white) from same description\n",
    "    \n",
    "    args:\n",
    "        raw_text: string to check for colors\n",
    "        \n",
    "    returns:\n",
    "        colors: string of colors found in raw_text\n",
    "    \n",
    "    \"\"\"\n",
    "\n",
    "    colors = list(set([word for word in raw_text.split() if check_if_color(word)]))\n",
    "    \n",
    "    return colors\n",
    "\n",
    "\n",
    "def get_gender(raw_text, genders_list):\n",
    "    \"\"\"\n",
    "    Get Gender\n",
    "    \n",
    "    Uses pre-defined lookup table to find gender. \n",
    "    Removes duplicates (woman woman) from same description\n",
    "    \n",
    "    args:\n",
    "        raw_text: string to check for gender\n",
    "        genders_list: list of genders to search for\n",
    "        \n",
    "    returns:\n",
    "        genders: list of genders found in raw_text\n",
    "    \n",
    "    \"\"\"\n",
    "    \n",
    "    genders = list(set([word for word in raw_text.split() if word in genders_list]))\n",
    "    \n",
    "    return genders\n",
    "    \n",
    "    \n",
    "    "
   ]
  },
  {
   "cell_type": "code",
   "execution_count": 5,
   "metadata": {},
   "outputs": [],
   "source": [
    "data['clean'] = data['raw'].apply(lambda x: clean_raw_text(x))\n",
    "data['lemmas'] = data['clean'].apply(lambda x: get_lemmas(x))\n",
    "data['color'] = data['lemmas'].apply(lambda x: get_colors(x))\n",
    "data['gender'] = data['lemmas'].apply(lambda x: get_gender(x, GENDERS))\n"
   ]
  },
  {
   "cell_type": "code",
   "execution_count": 6,
   "metadata": {},
   "outputs": [],
   "source": [
    "data.to_csv('../data/processed-data.csv')"
   ]
  },
  {
   "cell_type": "markdown",
   "metadata": {},
   "source": [
    "# Keyword Extraction"
   ]
  },
  {
   "cell_type": "code",
   "execution_count": 10,
   "metadata": {},
   "outputs": [],
   "source": [
    "import yake"
   ]
  },
  {
   "cell_type": "code",
   "execution_count": 1,
   "metadata": {},
   "outputs": [],
   "source": [
    "def get_keywords(raw_text, max_ngram_size=2, numOfKeywords=3):\n",
    "    \"\"\"\n",
    "    Get Keywords\n",
    "    \n",
    "    Uses yake's keyword extractor to return keywords from raw text\n",
    "    \n",
    "    args:\n",
    "        raw_text: string of text to extract keywords from\n",
    "        max_ngram_size: int for max ngram wanted (default 2)\n",
    "        numOfKeywords: int for how many keywords/ngrams you want to return\n",
    "    \n",
    "    returns:\n",
    "        kws: string of keywords in text\n",
    "    \n",
    "    \"\"\"\n",
    "    kw_extractor = yake.KeywordExtractor()\n",
    "\n",
    "\n",
    "    language = \"en\"\n",
    "    deduplication_threshold = 0.9\n",
    "    custom_kw_extractor = yake.KeywordExtractor(lan=language, n=max_ngram_size, dedupLim=deduplication_threshold, top=numOfKeywords, features=None)\n",
    "    keywords = custom_kw_extractor.extract_keywords(raw_text)\n",
    "    \n",
    "    \n",
    "    kws = ''\n",
    "    while len(keywords) > 0:\n",
    "        kws = kws + keywords.pop()[0] + ' '\n",
    "    \n",
    "    \n",
    "    \n",
    "    return kws"
   ]
  },
  {
   "cell_type": "code",
   "execution_count": 12,
   "metadata": {},
   "outputs": [],
   "source": [
    "data['keywords'] = data['lemmas'].apply(lambda x: get_keywords(x, 2, 3))"
   ]
  },
  {
   "cell_type": "code",
   "execution_count": 14,
   "metadata": {},
   "outputs": [],
   "source": [
    "data.to_csv('../data/processed-data-with-keywords.csv')"
   ]
  },
  {
   "cell_type": "code",
   "execution_count": null,
   "metadata": {},
   "outputs": [],
   "source": []
  }
 ],
 "metadata": {
  "kernelspec": {
   "display_name": "Python 3",
   "language": "python",
   "name": "python3"
  },
  "language_info": {
   "codemirror_mode": {
    "name": "ipython",
    "version": 3
   },
   "file_extension": ".py",
   "mimetype": "text/x-python",
   "name": "python",
   "nbconvert_exporter": "python",
   "pygments_lexer": "ipython3",
   "version": "3.7.6"
  }
 },
 "nbformat": 4,
 "nbformat_minor": 4
}
